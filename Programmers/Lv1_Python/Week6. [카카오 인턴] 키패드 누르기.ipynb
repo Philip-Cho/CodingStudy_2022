{
 "cells": [
  {
   "cell_type": "markdown",
   "metadata": {},
   "source": [
    "# [카카오 인턴] 키패드 누르기\n",
    "\n",
    "# [문제 출처]\n",
    "[프로그래머스 연습문제](https://programmers.co.kr/learn/courses/30/lessons/67256)\n",
    "\n",
    "# [문제 설명]\n",
    "스마트폰 전화 키패드의 각 칸에 다음과 같이 숫자들이 적혀 있습니다. ( 휴대폰 그림 )\n",
    "\n",
    "이 전화 키패드에서 왼손과 오른손의 엄지손가락만을 이용해서 숫자만을 입력하려고 합니다.\n",
    "맨 처음 왼손 엄지손가락은 * 키패드에 오른손 엄지손가락은 # 키패드 위치에서 시작하며, 엄지손가락을 사용하는 규칙은 다음과 같습니다.\n",
    "\n",
    "1. 엄지손가락은 상하좌우 4가지 방향으로만 이동할 수 있으며 키패드 이동 한 칸은 거리로 1에 해당합니다.\n",
    "2. 왼쪽 열의 3개의 숫자 1, 4, 7을 입력할 때는 왼손 엄지손가락을 사용합니다.\n",
    "3. 오른쪽 열의 3개의 숫자 3, 6, 9를 입력할 때는 오른손 엄지손가락을 사용합니다.\n",
    "4. 가운데 열의 4개의 숫자 2, 5, 8, 0을 입력할 때는 두 엄지손가락의 현재 키패드의 위치에서 더 가까운 엄지손가락을 사용합니다.\n",
    "    4-1. 만약 두 엄지손가락의 거리가 같다면, 오른손잡이는 오른손 엄지손가락, 왼손잡이는 왼손 엄지손가락을 사용합니다.\n",
    "    \n",
    "순서대로 누를 번호가 담긴 배열 numbers, 왼손잡이인지 오른손잡이인 지를 나타내는 문자열 hand가 매개변수로 주어질 때, 각 번호를 누른 엄지손가락이 왼손인 지 오른손인 지를 나타내는 연속된 문자열 형태로 return 하도록 solution 함수를 완성해주세요.\n",
    "\n",
    "# [제한사항]\n",
    "- numbers 배열의 크기는 1 이상 1,000 이하입니다.\n",
    "- numbers 배열 원소의 값은 0 이상 9 이하인 정수입니다.\n",
    "- hand는 \"left\" 또는 \"right\" 입니다.\n",
    "- \"left\"는 왼손잡이, \"right\"는 오른손잡이를 의미합니다.\n",
    "- 왼손 엄지손가락을 사용한 경우는 L, 오른손 엄지손가락을 사용한 경우는 R을 순서대로 이어붙여 문자열 형태로 return 해주세요."
   ]
  },
  {
   "cell_type": "markdown",
   "metadata": {},
   "source": [
    "- 🔥 리스트는 딕셔너리 키로 사용 불가능하다(unhashable) -> 튜플로 사용하기\n",
    "- 🔥 런타임 에러 -> 인덱스 번호 잘못입력시 발생(배열초과, 음수 등)\n",
    "- 50분 소요"
   ]
  },
  {
   "cell_type": "code",
   "execution_count": 32,
   "metadata": {},
   "outputs": [],
   "source": [
    "def solution(numbers, hand):\n",
    "    answer = ''\n",
    "    # [현위치, 갈 위치] = 거리\n",
    "    path = {(1,2):1, (1,5):2, (1,8):3, (1,0):4,\n",
    "             (4,2):2, (4,5):1, (4,8):2, (4,0):3,\n",
    "             (7,2):3, (7,5):2, (7,8):1, (7,0):2,\n",
    "             (3,2):1, (3,5):2, (3,8):3, (3,0):4,\n",
    "             (6,2):2, (6,5):1, (6,8):2, (6,0):3,\n",
    "             (9,2):3, (9,5):2, (9,8):1, (9,0):2, \n",
    "             ('*',2):4, ('*',5):3, ('*',8):2, ('*',0):1, \n",
    "             ('#',2):4, ('#',5):3, ('#',8):2, ('#',0):1,\n",
    "             (2,5):1, (2,8):2, (2,0):3, (5,2):1, (5,8):1, (5,0):2,\n",
    "             (8,2):2, (8,5):1, (8,0):1, (0,2):3, (0,5):2, (0,8):1}\n",
    "    \n",
    "    left_position = '*'\n",
    "    right_position = '#'\n",
    "        \n",
    "    for number in numbers:\n",
    "        if number in [1,4,7]:\n",
    "            left_position = number\n",
    "            answer += 'L'\n",
    "        elif number in [3,6,9]:\n",
    "            right_position = number\n",
    "            answer += 'R'\n",
    "        else:\n",
    "            # [왼쪽거리, 오른쪽거리]\n",
    "            dist = [path[(left_position, number)], path[(right_position, number)]]\n",
    "            \n",
    "            if dist[0] == dist[1]:\n",
    "                if hand=='right':\n",
    "                    right_position = number\n",
    "                    answer += 'R'\n",
    "                else:\n",
    "                    left_position = number\n",
    "                    answer += 'L'\n",
    "            else:\n",
    "                idx = dist.index(min(dist))\n",
    "                if idx == 0:\n",
    "                    left_position = number\n",
    "                    answer += 'L'\n",
    "                else:\n",
    "                    right_position = number\n",
    "                    answer += 'R'\n",
    "                                \n",
    "    return answer"
   ]
  },
  {
   "cell_type": "code",
   "execution_count": 33,
   "metadata": {},
   "outputs": [
    {
     "name": "stdout",
     "output_type": "stream",
     "text": [
      "LRLLRRLLLRR\n"
     ]
    }
   ],
   "source": [
    "print(solution([1, 3, 4, 5, 8, 2, 1, 4, 5, 9, 5], 'right'))\n",
    "print(solution([7, 0, 8, 2, 8, 3, 1, 5, 7, 6, 2], 'left'))\n",
    "print(solution([1, 2, 3, 4, 5, 6, 7, 8, 9, 0], 'right'))"
   ]
  },
  {
   "cell_type": "markdown",
   "metadata": {},
   "source": [
    "# 테스트케이스 런타임 에러 발생"
   ]
  }
 ],
 "metadata": {
  "kernelspec": {
   "display_name": "Python 3",
   "language": "python",
   "name": "python3"
  },
  "language_info": {
   "codemirror_mode": {
    "name": "ipython",
    "version": 3
   },
   "file_extension": ".py",
   "mimetype": "text/x-python",
   "name": "python",
   "nbconvert_exporter": "python",
   "pygments_lexer": "ipython3",
   "version": "3.7.9"
  }
 },
 "nbformat": 4,
 "nbformat_minor": 4
}
