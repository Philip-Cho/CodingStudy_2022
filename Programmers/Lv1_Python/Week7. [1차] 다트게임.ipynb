{
 "cells": [
  {
   "cell_type": "markdown",
   "metadata": {},
   "source": [
    "# [1차] 다트 게임\n",
    "\n",
    "# [문제 출처]\n",
    "[프로그래머스 연습문제](https://programmers.co.kr/learn/courses/30/lessons/17682)\n",
    "\n",
    "# [문제 설명]\n",
    "다트 게임. 카카오톡에 뜬 네 번째 별! 심심할 땐? 카카오톡 게임별~\n",
    "\n",
    "Game Star\n",
    "\n",
    "카카오톡 게임별의 하반기 신규 서비스로 다트 게임을 출시하기로 했다. 다트 게임은 다트판에 다트를 세 차례 던져 그 점수의 합계로 실력을 겨루는 게임으로, 모두가 간단히 즐길 수 있다.\n",
    "\n",
    "갓 입사한 무지는 코딩 실력을 인정받아 게임의 핵심 부분인 점수 계산 로직을 맡게 되었다. 다트 게임의 점수 계산 로직은 아래와 같다.\n",
    "\n",
    "1. 다트 게임은 총 3번의 기회로 구성된다.\n",
    "2. 각 기회마다 얻을 수 있는 점수는 0점에서 10점까지이다.\n",
    "3. 점수와 함께 Single(S), Double(D), Triple(T) 영역이 존재하고 각 영역 당첨 시 점수에서 1제곱, 2제곱, 3제곱 (점수1 , 점수2 , 점수3 )으로 계산된다.\n",
    "4. 옵션으로 스타상(*) , 아차상(#)이 존재하며 스타상(*) 당첨 시 해당 점수와 바로 전에 얻은 점수를 각 2배로 만든다. 아차상(#) 당첨 시 해당 점수는 마이너스된다.\n",
    "5. 스타상(*)은 첫 번째 기회에서도 나올 수 있다. 이 경우 첫 번째 스타상(*)의 점수만 2배가 된다. (예제 4번 참고)\n",
    "6. 스타상(*)의 효과는 다른 스타상(*)의 효과와 중첩될 수 있다. 이 경우 중첩된 스타상(*) 점수는 4배가 된다. (예제 4번 참고)\n",
    "7. 스타상(*)의 효과는 아차상(#)의 효과와 중첩될 수 있다. 이 경우 중첩된 아차상(#)의 점수는 -2배가 된다. (예제 5번 참고)\n",
    "8. Single(S), Double(D), Triple(T)은 점수마다 하나씩 존재한다.\n",
    "9. 스타상(*), 아차상(#)은 점수마다 둘 중 하나만 존재할 수 있으며, 존재하지 않을 수도 있다.\n",
    "\n",
    "0~10의 정수와 문자 S, D, T, *, #로 구성된 문자열이 입력될 시 총점수를 반환하는 함수를 작성하라.\n",
    "\n",
    "# [입력 형식]\n",
    "\"점수|보너스|[옵션]\"으로 이루어진 문자열 3세트.\n",
    "예) 1S2D*3T\n",
    "\n",
    "- 점수는 0에서 10 사이의 정수이다.\n",
    "- 보너스는 S, D, T 중 하나이다.\n",
    "- 옵선은 *이나 # 중 하나이며, 없을 수도 있다.\n",
    "\n",
    "# [출력 형식]\n",
    "3번의 기회에서 얻은 점수 합계에 해당하는 정수값을 출력한다.\n",
    "\n",
    "예) 37"
   ]
  },
  {
   "cell_type": "code",
   "execution_count": 1,
   "metadata": {},
   "outputs": [],
   "source": [
    "# 문제점: 첫 값이 10이 나올 경우 i가 2번이동해야하지만 10값은 정확히 들어가도 i는 한번만 이동하는 문제 발생\n",
    "def solution(word):\n",
    "    # 연산된 숫자만 삽입\n",
    "    stack = []\n",
    "\n",
    "    for i in range(len(word)):\n",
    "        if word[i].isdigit():\n",
    "            if word[i+1] == '0':\n",
    "                num = word[i:i+2]\n",
    "            else:\n",
    "                num = word[i]\n",
    "            stack.append(int(num))\n",
    "        if word[i]=='D':\n",
    "            top = stack.pop()\n",
    "            stack.append(top*top)\n",
    "        if word[i]=='T':\n",
    "            top = stack.pop()\n",
    "            stack.append(top*top*top)\n",
    "        if word[i]=='*':\n",
    "            after = stack.pop()\n",
    "            try:\n",
    "                prev = stack.pop()\n",
    "                stack.append(prev*2)\n",
    "            except:\n",
    "                pass\n",
    "            stack.append(after*2)\n",
    "        if word[i]=='#':\n",
    "            top = stack.pop()\n",
    "            stack.append(top*-1)\n",
    "            \n",
    "    return sum(stack)"
   ]
  },
  {
   "cell_type": "code",
   "execution_count": 2,
   "metadata": {},
   "outputs": [
    {
     "name": "stdout",
     "output_type": "stream",
     "text": [
      "37\n",
      "9\n",
      "3\n",
      "23\n",
      "5\n",
      "-4\n",
      "59\n",
      "24\n"
     ]
    }
   ],
   "source": [
    "print(solution('1S2D*3T'))\n",
    "print(solution('1D2S#10S'))\n",
    "print(solution('1D2S0T'))\n",
    "print(solution('1S*2T*3S'))\n",
    "print(solution('1D#2S*3S'))\n",
    "print(solution('1T2D3D#'))\n",
    "print(solution('1D2S3T*'))\n",
    "print(solution('10D4S10D')) # 정답: 204인데 24로 오답나옴"
   ]
  },
  {
   "cell_type": "markdown",
   "metadata": {},
   "source": [
    "### 2차풀이"
   ]
  },
  {
   "cell_type": "code",
   "execution_count": 3,
   "metadata": {},
   "outputs": [],
   "source": [
    "def solution(word):\n",
    "    # 연산된 숫자만 삽입\n",
    "    stack = []\n",
    "\n",
    "    for i in range(len(word)):\n",
    "        if word[i].isdigit():\n",
    "            if word[i] == '0':\n",
    "                try:\n",
    "                    if word[i-1]=='1':\n",
    "                        stack.pop()\n",
    "                        stack.append(10)\n",
    "                    else:\n",
    "                        stack.append(0)\n",
    "                except:\n",
    "                    stack.append(0)\n",
    "            else:\n",
    "                stack.append(int(word[i]))\n",
    "        if word[i]=='D':\n",
    "            top = stack.pop()\n",
    "            stack.append(top*top)\n",
    "        if word[i]=='T':\n",
    "            top = stack.pop()\n",
    "            stack.append(top*top*top)\n",
    "        if word[i]=='*':\n",
    "            after = stack.pop()\n",
    "            try:\n",
    "                prev = stack.pop()\n",
    "                stack.append(prev*2)\n",
    "            except:\n",
    "                pass\n",
    "            stack.append(after*2)\n",
    "        if word[i]=='#':\n",
    "            top = stack.pop()\n",
    "            stack.append(top*-1)\n",
    "            \n",
    "    return sum(stack)"
   ]
  },
  {
   "cell_type": "code",
   "execution_count": 4,
   "metadata": {},
   "outputs": [
    {
     "name": "stdout",
     "output_type": "stream",
     "text": [
      "37\n",
      "9\n",
      "3\n",
      "23\n",
      "5\n",
      "-4\n",
      "59\n",
      "204\n"
     ]
    }
   ],
   "source": [
    "print(solution('1S2D*3T'))\n",
    "print(solution('1D2S#10S'))\n",
    "print(solution('1D2S0T'))\n",
    "print(solution('1S*2T*3S'))\n",
    "print(solution('1D#2S*3S'))\n",
    "print(solution('1T2D3D#'))\n",
    "print(solution('1D2S3T*'))\n",
    "print(solution('10D4S10D')) # 결과: 204"
   ]
  },
  {
   "cell_type": "markdown",
   "metadata": {},
   "source": [
    "### 모범답안"
   ]
  },
  {
   "cell_type": "code",
   "execution_count": 5,
   "metadata": {},
   "outputs": [],
   "source": [
    "import re\n",
    "\n",
    "\n",
    "def solution(dartResult):\n",
    "    bonus = {'S' : 1, 'D' : 2, 'T' : 3}\n",
    "    option = {'' : 1, '*' : 2, '#' : -1}\n",
    "    p = re.compile('(\\d+)([SDT])([*#]?)')\n",
    "    dart = p.findall(dartResult)\n",
    "    for i in range(len(dart)):\n",
    "        if dart[i][2] == '*' and i > 0:\n",
    "            dart[i-1] *= 2\n",
    "        dart[i] = int(dart[i][0]) ** bonus[dart[i][1]] * option[dart[i][2]]\n",
    "\n",
    "    answer = sum(dart)\n",
    "    return answer"
   ]
  },
  {
   "cell_type": "code",
   "execution_count": 6,
   "metadata": {},
   "outputs": [
    {
     "name": "stdout",
     "output_type": "stream",
     "text": [
      "37\n",
      "9\n",
      "3\n",
      "23\n",
      "5\n",
      "-4\n",
      "59\n",
      "204\n"
     ]
    }
   ],
   "source": [
    "print(solution('1S2D*3T'))\n",
    "print(solution('1D2S#10S'))\n",
    "print(solution('1D2S0T'))\n",
    "print(solution('1S*2T*3S'))\n",
    "print(solution('1D#2S*3S'))\n",
    "print(solution('1T2D3D#'))\n",
    "print(solution('1D2S3T*'))\n",
    "print(solution('10D4S10D')) # 결과: 204"
   ]
  }
 ],
 "metadata": {
  "kernelspec": {
   "display_name": "Python 3",
   "language": "python",
   "name": "python3"
  },
  "language_info": {
   "codemirror_mode": {
    "name": "ipython",
    "version": 3
   },
   "file_extension": ".py",
   "mimetype": "text/x-python",
   "name": "python",
   "nbconvert_exporter": "python",
   "pygments_lexer": "ipython3",
   "version": "3.7.9"
  }
 },
 "nbformat": 4,
 "nbformat_minor": 4
}
