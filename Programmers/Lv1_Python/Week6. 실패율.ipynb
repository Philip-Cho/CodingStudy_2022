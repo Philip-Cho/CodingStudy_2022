{
 "cells": [
  {
   "cell_type": "markdown",
   "metadata": {},
   "source": [
    "# 실패율\n",
    "\n",
    "# [문제 출처]\n",
    "[프로그래머스 연습문제](https://programmers.co.kr/learn/courses/30/lessons/42889)\n",
    "\n",
    "# [문제 설명]\n",
    "\n",
    "슈퍼 게임 개발자 오렐리는 큰 고민에 빠졌다. 그녀가 만든 프랜즈 오천성이 대성공을 거뒀지만, 요즘 신규 사용자의 수가 급감한 것이다. 원인은 신규 사용자와 기존 사용자 사이에 스테이지 차이가 너무 큰 것이 문제였다.\n",
    "\n",
    "이 문제를 어떻게 할까 고민 한 그녀는 동적으로 게임 시간을 늘려서 난이도를 조절하기로 했다. 역시 슈퍼 개발자라 대부분의 로직은 쉽게 구현했지만, 실패율을 구하는 부분에서 위기에 빠지고 말았다. 오렐리를 위해 실패율을 구하는 코드를 완성하라.\n",
    "\n",
    "- 실패율은 다음과 같이 정의한다.\n",
    "    - 스테이지에 도달했으나 아직 클리어하지 못한 플레이어의 수 / 스테이지에 도달한 플레이어 수\n",
    "    \n",
    "전체 스테이지의 개수 N, 게임을 이용하는 사용자가 현재 멈춰있는 스테이지의 번호가 담긴 배열 stages가 매개변수로 주어질 때, 실패율이 높은 스테이지부터 내림차순으로 스테이지의 번호가 담겨있는 배열을 return 하도록 solution 함수를 완성하라.\n",
    "\n",
    "# [제한사항]\n",
    "- 스테이지의 개수 N은 1 이상 500 이하의 자연수이다.\n",
    "- stages의 길이는 1 이상 200,000 이하이다.\n",
    "- stages에는 1 이상 N + 1 이하의 자연수가 담겨있다.\n",
    "- 각 자연수는 사용자가 현재 도전 중인 스테이지의 번호를 나타낸다.\n",
    "- 단, N + 1 은 마지막 스테이지(N 번째 스테이지) 까지 클리어 한 사용자를 나타낸다.\n",
    "- 만약 실패율이 같은 스테이지가 있다면 작은 번호의 스테이지가 먼저 오도록 하면 된다.\n",
    "- 스테이지에 도달한 유저가 없는 경우 해당 스테이지의 실패율은 0 으로 정의한다.\n"
   ]
  },
  {
   "cell_type": "markdown",
   "metadata": {},
   "source": [
    "- 문제 읽는 시간: 8분\n",
    "- 문제 푼 시간: 29분"
   ]
  },
  {
   "cell_type": "code",
   "execution_count": 1,
   "metadata": {},
   "outputs": [],
   "source": [
    "def solution(N, stages):\n",
    "    ratio = []\n",
    "    answer = []\n",
    "\n",
    "    # 비율 구하기\n",
    "    for base in range(1, N+1):\n",
    "        numerator = 0\n",
    "        denominator = 0\n",
    "        for stage in stages:\n",
    "            if stage == base:\n",
    "                numerator += 1\n",
    "                denominator += 1\n",
    "            if stage > base:\n",
    "                denominator += 1\n",
    "        try:\n",
    "            fraction = numerator/denominator\n",
    "        except:\n",
    "            fraction = 0\n",
    "        \n",
    "        ratio.append(fraction)\n",
    "        \n",
    "    # 순서 정렬\n",
    "    for val in sorted(set(ratio), reverse=True):\n",
    "        for i in range(len(ratio)):\n",
    "            if val == ratio[i]:\n",
    "                answer.append(i+1)\n",
    "        \n",
    "    return answer"
   ]
  },
  {
   "cell_type": "code",
   "execution_count": 2,
   "metadata": {},
   "outputs": [],
   "source": [
    "print(solution(5, [2, 1, 2, 6, 2, 4, 3, 3]))\n",
    "print(solution(4, [4,4,4,4,4]))"
   ]
  },
  {
   "cell_type": "markdown",
   "metadata": {},
   "source": [
    "#### 내답안\n",
    "- 분모에 해당하는 값을 하나씩 키우며 모두 세고, 분자또한 매번 for문으로 계산\n",
    "- 분모가 0이 될때를 예외처리함\n",
    "\n",
    "#### 모범답안\n",
    "- 한편 모범답안의 경우 스테이지를 증가하며 분모는 하나씩 줄이고 count함수를 쓰며 이중 for문 제거\n",
    "- 분모가 0이 될때와 안될때로 나눔\n",
    "\n",
    "#### 🔥 핵심 포인트\n",
    "- dictionary이므로 sorted에 result를 그냥 넘기면 result의 keys가 들어갑니다. keys는 생략이 가능합니다. 거기에 lambda는 기준을 result[x]: 즉 value로 정렬한다는 뜻입니다. 그래서 key가 출력되게 됩니다.\n",
    "- .count 시간복잡도는 O(N)\n"
   ]
  },
  {
   "cell_type": "code",
   "execution_count": 3,
   "metadata": {},
   "outputs": [],
   "source": [
    "def solution(N, stages):\n",
    "    result = {}\n",
    "    denominator = len(stages)\n",
    "    for stage in range(1, N+1):\n",
    "        if denominator != 0:\n",
    "            count = stages.count(stage)\n",
    "            result[stage] = count / denominator\n",
    "            denominator -= count\n",
    "        else:\n",
    "            result[stage] = 0\n",
    "    return sorted(result, key=lambda x : result[x], reverse=True)"
   ]
  },
  {
   "cell_type": "code",
   "execution_count": 4,
   "metadata": {},
   "outputs": [
    {
     "name": "stdout",
     "output_type": "stream",
     "text": [
      "[3, 4, 2, 1, 5]\n",
      "[4, 1, 2, 3]\n"
     ]
    }
   ],
   "source": [
    "print(solution(5, [2, 1, 2, 6, 2, 4, 3, 3]))\n",
    "print(solution(4, [4,4,4,4,4]))"
   ]
  }
 ],
 "metadata": {
  "kernelspec": {
   "display_name": "Python 3",
   "language": "python",
   "name": "python3"
  },
  "language_info": {
   "codemirror_mode": {
    "name": "ipython",
    "version": 3
   },
   "file_extension": ".py",
   "mimetype": "text/x-python",
   "name": "python",
   "nbconvert_exporter": "python",
   "pygments_lexer": "ipython3",
   "version": "3.7.9"
  }
 },
 "nbformat": 4,
 "nbformat_minor": 4
}
