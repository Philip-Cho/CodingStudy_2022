{
 "cells": [
  {
   "cell_type": "markdown",
   "metadata": {},
   "source": [
    "# 약수의 개수와 덧셈\n",
    "\n",
    "# [문제 출처]\n",
    "[프로그래머스 연습문제](https://programmers.co.kr/learn/courses/30/lessons/77884)\n",
    "\n",
    "# [문제 설명]\n",
    "두 정수 left와 right가 매개변수로 주어집니다. left부터 right까지의 모든 수들 중에서, 약수의 개수가 짝수인 수는 더하고, 약수의 개수가 홀수인 수는 뺀 수를 return 하도록 solution 함수를 완성해주세요.\n",
    "\n",
    "# [제한사항]\n",
    "- 1 ≤ left ≤ right ≤ 1,000"
   ]
  },
  {
   "cell_type": "code",
   "execution_count": 1,
   "metadata": {},
   "outputs": [],
   "source": [
    "def solution(left, right):\n",
    "    answer = 0\n",
    "    for number in range(left, right+1):\n",
    "        # 약수 리스트\n",
    "        buffer = []\n",
    "        for i in range(1,number+1):\n",
    "            for k in range(i,number+1):\n",
    "                if i*k ==number:\n",
    "                    buffer.extend({i,k})\n",
    "                    \n",
    "        # 문제 계산\n",
    "        if len(buffer)%2 == 0:\n",
    "            answer += number\n",
    "        else:\n",
    "            answer -= number\n",
    "            \n",
    "    return answer"
   ]
  },
  {
   "cell_type": "code",
   "execution_count": 2,
   "metadata": {
    "scrolled": true
   },
   "outputs": [
    {
     "data": {
      "text/plain": [
       "43"
      ]
     },
     "execution_count": 2,
     "metadata": {},
     "output_type": "execute_result"
    }
   ],
   "source": [
    "solution(13,17)"
   ]
  },
  {
   "cell_type": "markdown",
   "metadata": {},
   "source": [
    "# 모범답안\n",
    "\n",
    "- 한편, 해당 풀이 명제에는 문제가 있음\n",
    "\n",
    "**\"약수가 홀수개인 모든 수는 제곱수\"**라는 명제는 **\"약수가 홀수개가 아니나 제굽수인 어떤 수가 존재\"**할 가능성을 내포하고 있음. 따라서 **\"제곱수의 약수가 홀수개\"라는 명제가 올바름 (if문 수정 필요)"
   ]
  },
  {
   "cell_type": "code",
   "execution_count": 3,
   "metadata": {},
   "outputs": [],
   "source": [
    "def solution(left, right):\n",
    "    answer = 0\n",
    "    for i in range(left,right+1):\n",
    "        if int(i**0.5)==i**0.5:\n",
    "            answer -= i\n",
    "        else:\n",
    "            answer += i\n",
    "    return answer"
   ]
  },
  {
   "cell_type": "code",
   "execution_count": 4,
   "metadata": {},
   "outputs": [
    {
     "data": {
      "text/plain": [
       "43"
      ]
     },
     "execution_count": 4,
     "metadata": {},
     "output_type": "execute_result"
    }
   ],
   "source": [
    "solution(13,17)"
   ]
  }
 ],
 "metadata": {
  "kernelspec": {
   "display_name": "Python 3",
   "language": "python",
   "name": "python3"
  },
  "language_info": {
   "codemirror_mode": {
    "name": "ipython",
    "version": 3
   },
   "file_extension": ".py",
   "mimetype": "text/x-python",
   "name": "python",
   "nbconvert_exporter": "python",
   "pygments_lexer": "ipython3",
   "version": "3.7.9"
  }
 },
 "nbformat": 4,
 "nbformat_minor": 4
}
