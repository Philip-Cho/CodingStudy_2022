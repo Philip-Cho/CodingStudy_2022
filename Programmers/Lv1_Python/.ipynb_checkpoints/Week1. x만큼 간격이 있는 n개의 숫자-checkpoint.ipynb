{
 "cells": [
  {
   "cell_type": "markdown",
   "metadata": {},
   "source": [
    "# x만큼 간격이 있는 n개의 숫자\n",
    "\n",
    "## [문제출처]\n",
    "[프로그래머스 연습문제](https://programmers.co.kr/learn/courses/30/lessons/12954)\n",
    "\n",
    "## [문제 설명]\n",
    "함수 solution은 정수 x와 자연수 n을 입력 받아, x부터 시작해 x씩 증가하는 숫자를 n개 지니는 리스트를 리턴해야 합니다. 다음 제한 조건을 보고, 조건을 만족하는 함수, solution을 완성해주세요.\n",
    "\n",
    "## [제한 조건]\n",
    "- x는 -10000000 이상, 10000000 이하인 정수입니다.\n",
    "- n은 1000 이하인 자연수입니다."
   ]
  },
  {
   "cell_type": "code",
   "execution_count": 1,
   "metadata": {},
   "outputs": [],
   "source": [
    "def solution(x, n):\n",
    "    answer = [x*k for k in range(1, n+1)]\n",
    "    return answer"
   ]
  },
  {
   "cell_type": "code",
   "execution_count": 2,
   "metadata": {},
   "outputs": [
    {
     "name": "stdout",
     "output_type": "stream",
     "text": [
      "[2, 4, 6, 8, 10]\n",
      "[4, 8, 12]\n",
      "[-4, -8]\n",
      "\n",
      "time : 0.00042700767517089844\n"
     ]
    }
   ],
   "source": [
    "import time\n",
    "start = time.time()\n",
    " \n",
    "print(solution(2,5))\n",
    "print(solution(4,3))\n",
    "print(solution(-4,2))\n",
    "\n",
    "print()\n",
    "print(\"time :\", time.time() - start)"
   ]
  }
 ],
 "metadata": {
  "kernelspec": {
   "display_name": "Python 3",
   "language": "python",
   "name": "python3"
  },
  "language_info": {
   "codemirror_mode": {
    "name": "ipython",
    "version": 3
   },
   "file_extension": ".py",
   "mimetype": "text/x-python",
   "name": "python",
   "nbconvert_exporter": "python",
   "pygments_lexer": "ipython3",
   "version": "3.7.9"
  }
 },
 "nbformat": 4,
 "nbformat_minor": 4
}
