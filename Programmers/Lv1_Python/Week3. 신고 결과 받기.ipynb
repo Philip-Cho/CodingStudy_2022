{
 "cells": [
  {
   "cell_type": "markdown",
   "metadata": {},
   "source": [
    "# 신고 결과 받기\n",
    "\n",
    "# [문제 출처]\n",
    "[프로그래머스 연습문제](https://programmers.co.kr/learn/courses/30/lessons/92334)\n",
    "\n",
    "# [문제 설명]\n",
    "신입사원 무지는 게시판 불량 이용자를 신고하고 처리 결과를 메일로 발송하는 시스템을 개발하려 합니다. 무지가 개발하려는 시스템은 다음과 같습니다.\n",
    "\n",
    "- 각 유저는 한 번에 한 명의 유저를 신고할 수 있습니다.\n",
    "    - 신고 횟수에 제한은 없습니다. 서로 다른 유저를 계속해서 신고할 수 있습니다.\n",
    "    - 한 유저를 여러 번 신고할 수도 있지만, 동일한 유저에 대한 신고 횟수는 1회로 처리됩니다.\n",
    "- k번 이상 신고된 유저는 게시판 이용이 정지되며, 해당 유저를 신고한 모든 유저에게 정지 사실을 메일로 발송합니다.\n",
    "    - 유저가 신고한 모든 내용을 취합하여 마지막에 한꺼번에 게시판 이용 정지를 시키면서 정지 메일을 발송합니다.\n",
    "    \n",
    "다음은 전체 유저 목록이 [\"muzi\", \"frodo\", \"apeach\", \"neo\"]이고, k = 2(즉, 2번 이상 신고당하면 이용 정지)인 경우의 예시입니다.\n",
    "\n",
    "|유저 ID|유저가 신고한 ID|설명|\n",
    "|:---:|:---:|:---|\n",
    "|\"muzi\"|\"frodo\"|\"muzi\"가 \"frodo\"를 신고했습니다.|\n",
    "|\"apeach\"|\"frodo\"|\"apeach\"가 \"frodo\"를 신고했습니다.|\n",
    "|\"frodo\"|\"neo\"|\"frodo\"가 \"neo\"를 신고했습니다.|\n",
    "|\"muzi\"|\"neo\"|\"muzi\"가 \"neo\"를 신고했습니다.|\n",
    "|\"apeach\"|\"muzi\"|\"apeach\"가 \"muzi\"를 신고했습니다.|\n",
    "\n",
    "각 유저별로 신고당한 횟수는 다음과 같습니다.\n",
    "\n",
    "|유저 ID|신고당한 횟수|\n",
    "|:---:|:---|\n",
    "|\"muzi\"|1|\n",
    "|\"frodo\"|2|\n",
    "|\"apeach\"|0|\n",
    "|\"neo\"|2|\n",
    "\n",
    "위 예시에서는 2번 이상 신고당한 \"frodo\"와 \"neo\"의 게시판 이용이 정지됩니다. 이때, 각 유저별로 신고한 아이디와 정지된 아이디를 정리하면 다음과 같습니다.\n",
    "\n",
    "|유저 ID|유저가 신고한 ID|정지된 ID|\n",
    "|:---:|:---:|:---:|\n",
    "|\"muzi\"|[\"frodo\", \"neo\"]|[\"frodo\", \"neo\"]|\n",
    "|\"frodo\"|[\"neo\"]|[\"neo\"]|\n",
    "|\"apeach\"|[\"muzi\", \"frodo\"]|[\"frodo\"]|\n",
    "|\"neo\"|없음|없음|\n",
    "\n",
    "따라서 \"muzi\"는 처리 결과 메일을 2회, \"frodo\"와 \"apeach\"는 각각 처리 결과 메일을 1회 받게 됩니다.\n",
    "\n",
    "이용자의 ID가 담긴 문자열 배열 id_list, 각 이용자가 신고한 이용자의 ID 정보가 담긴 문자열 배열 report, 정지 기준이 되는 신고 횟수 k가 매개변수로 주어질 때, 각 유저별로 처리 결과 메일을 받은 횟수를 배열에 담아 return 하도록 solution 함수를 완성해주세요.\n",
    "\n",
    "# [제한사항]\n",
    "- 2 ≤ id_list의 길이 ≤ 1,000\n",
    "    - 1 ≤ id_list의 원소 길이 ≤ 10\n",
    "    - id_list의 원소는 이용자의 id를 나타내는 문자열이며 알파벳 소문자로만 이루어져 있습니다.\n",
    "    - id_list에는 같은 아이디가 중복해서 들어있지 않습니다.\n",
    "- 1 ≤ report의 길이 ≤ 200,000\n",
    "    - 3 ≤ report의 원소 길이 ≤ 21\n",
    "    - report의 원소는 \"이용자id 신고한id\"형태의 문자열입니다.\n",
    "    - 예를 들어 \"muzi frodo\"의 경우 \"muzi\"가 \"frodo\"를 신고했다는 의미입니다.\n",
    "    - id는 알파벳 소문자로만 이루어져 있습니다.\n",
    "    - 이용자id와 신고한id는 공백(스페이스)하나로 구분되어 있습니다.\n",
    "    - 자기 자신을 신고하는 경우는 없습니다.\n",
    "- 1 ≤ k ≤ 200, k는 자연수입니다.\n",
    "- return 하는 배열은 id_list에 담긴 id 순서대로 각 유저가 받은 결과 메일 수를 담으면 됩니다|."
   ]
  },
  {
   "cell_type": "code",
   "execution_count": 33,
   "metadata": {},
   "outputs": [],
   "source": [
    "def solution(id_list, report, k):\n",
    "    answer = []\n",
    "    report_dict = {} # 신고리스트\n",
    "    warned_dict = {} # 신고횟수\n",
    "    for name in id_list:\n",
    "        report_dict[name] = []\n",
    "        warned_dict[name] = 0\n",
    "        \n",
    "    for value in set(report):\n",
    "        warning = value.split()\n",
    "        report_dict[warning[0]].append(warning[1])\n",
    "        \n",
    "    for value in report_dict.values():\n",
    "        for warned in value:\n",
    "            warned_dict[warned] += 1\n",
    "            \n",
    "    warned_list = [name for name, v in warned_dict.items() if v>=k]\n",
    "    \n",
    "    for value in report_dict.values():\n",
    "        c = 0\n",
    "        for warned in warned_list:\n",
    "            if warned in value:\n",
    "                c+=1\n",
    "        answer.append(c)\n",
    "        \n",
    "    return answer"
   ]
  },
  {
   "cell_type": "code",
   "execution_count": 34,
   "metadata": {},
   "outputs": [
    {
     "data": {
      "text/plain": [
       "[2, 1, 1, 0]"
      ]
     },
     "execution_count": 34,
     "metadata": {},
     "output_type": "execute_result"
    }
   ],
   "source": [
    "id_list = [\"muzi\", \"frodo\", \"apeach\", \"neo\"]\n",
    "report = [\"muzi frodo\",\"apeach frodo\",\"frodo neo\",\"muzi neo\",\"apeach muzi\"]\n",
    "solution(id_list, report, 2)"
   ]
  },
  {
   "cell_type": "code",
   "execution_count": 35,
   "metadata": {},
   "outputs": [
    {
     "data": {
      "text/plain": [
       "[0, 0]"
      ]
     },
     "execution_count": 35,
     "metadata": {},
     "output_type": "execute_result"
    }
   ],
   "source": [
    "id_list = [\"con\", \"ryan\"]\n",
    "report = [\"ryan con\", \"ryan con\", \"ryan con\", \"ryan con\"]\n",
    "solution(id_list, report, 3)"
   ]
  }
 ],
 "metadata": {
  "kernelspec": {
   "display_name": "Python 3",
   "language": "python",
   "name": "python3"
  },
  "language_info": {
   "codemirror_mode": {
    "name": "ipython",
    "version": 3
   },
   "file_extension": ".py",
   "mimetype": "text/x-python",
   "name": "python",
   "nbconvert_exporter": "python",
   "pygments_lexer": "ipython3",
   "version": "3.7.9"
  }
 },
 "nbformat": 4,
 "nbformat_minor": 4
}
