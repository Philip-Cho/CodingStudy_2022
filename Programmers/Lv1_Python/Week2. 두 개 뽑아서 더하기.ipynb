{
 "cells": [
  {
   "cell_type": "markdown",
   "metadata": {},
   "source": [
    "# 두 개 뽑아서 더하기\n",
    "\n",
    "# [문제 출처]\n",
    "[프로그래머스 연습문제](https://programmers.co.kr/learn/courses/30/lessons/68644)\n",
    "\n",
    "# [문제 설명]\n",
    "정수 배열 numbers가 주어집니다. numbers에서 서로 다른 인덱스에 있는 두 개의 수를 뽑아 더해서 만들 수 있는 모든 수를 배열에 오름차순으로 담아 return 하도록 solution 함수를 완성해주세요.\n",
    "\n",
    "🔥**[참고 Tip]** 문제에 구체적으로 명시되어 있지는 않으나, <u>더해서 만들 수 있는 모든 수</u>라는 부분을 통해 결과값이 중복이 되면 안된다는 점을 인지해야 한다\n",
    "\n",
    "\n",
    "# [제한사항]\n",
    "- numbers의 길이는 2 이상 100 이하입니다.\n",
    "- numbers의 모든 수는 0 이상 100 이하입니다."
   ]
  },
  {
   "cell_type": "code",
   "execution_count": 1,
   "metadata": {},
   "outputs": [],
   "source": [
    "def solution(numbers):\n",
    "    answer = []\n",
    "    length = len(numbers)\n",
    "    idx_pair = []\n",
    "    \n",
    "    for i in range(length):\n",
    "        for k in range(length):\n",
    "            pair = {i, k}\n",
    "            if len(pair) == 2:\n",
    "                idx_pair.append(pair)\n",
    "    \n",
    "    for idx in idx_pair:\n",
    "        i, k = idx\n",
    "        add = numbers[i]+numbers[k]\n",
    "        if add not in answer:\n",
    "            answer.append(add)\n",
    "            \n",
    "    return sorted(answer)"
   ]
  },
  {
   "cell_type": "code",
   "execution_count": 2,
   "metadata": {},
   "outputs": [
    {
     "name": "stdout",
     "output_type": "stream",
     "text": [
      "[2, 3, 4, 5, 6, 7]\n",
      "[2, 5, 7, 9, 12]\n"
     ]
    }
   ],
   "source": [
    "print(solution([2,1,3,4,1]))\n",
    "print(solution([5,0,2,7]))"
   ]
  },
  {
   "cell_type": "markdown",
   "metadata": {},
   "source": [
    "# 모범답안"
   ]
  },
  {
   "cell_type": "code",
   "execution_count": 3,
   "metadata": {},
   "outputs": [],
   "source": [
    "def solution(numbers):\n",
    "    answer = []\n",
    "    for i in range(len(numbers)):\n",
    "        for j in range(i+1, len(numbers)):\n",
    "            answer.append(numbers[i] + numbers[j])\n",
    "    \n",
    "    return sorted(list(set(answer)))"
   ]
  },
  {
   "cell_type": "code",
   "execution_count": 4,
   "metadata": {},
   "outputs": [
    {
     "name": "stdout",
     "output_type": "stream",
     "text": [
      "[2, 3, 4, 5, 6, 7]\n",
      "[2, 5, 7, 9, 12]\n"
     ]
    }
   ],
   "source": [
    "print(solution([2,1,3,4,1]))\n",
    "print(solution([5,0,2,7]))"
   ]
  }
 ],
 "metadata": {
  "kernelspec": {
   "display_name": "Python 3",
   "language": "python",
   "name": "python3"
  },
  "language_info": {
   "codemirror_mode": {
    "name": "ipython",
    "version": 3
   },
   "file_extension": ".py",
   "mimetype": "text/x-python",
   "name": "python",
   "nbconvert_exporter": "python",
   "pygments_lexer": "ipython3",
   "version": "3.7.9"
  }
 },
 "nbformat": 4,
 "nbformat_minor": 4
}
