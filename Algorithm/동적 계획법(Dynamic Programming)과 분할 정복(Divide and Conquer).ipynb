{
 "cells": [
  {
   "cell_type": "markdown",
   "metadata": {},
   "source": [
    "# 동적 계획법(DP)\n",
    "- 상향식 접근법으로(bottom-up), 큰 문제를 잘개 쪼갠 후 작은 문제들을 해결한 후 작은 문제의 결과값들을 토대로 큰 문제를 해결한다\n",
    "- Memorization 기법을 사용함\n",
    "    - 프로그램 실행 시 이전에 계산한 값을 저장하여, 다시 계산하지 않도록 하여 전체 실행 속도를 빠르게 하는 기술\n",
    "    - 부분 문제의 해답을 저장해서 재활용하는 최적화 기법\n",
    "- 예시: **피보나치 수열**\n",
    "\n",
    "# 분할 정복\n",
    "- 하향식 접근법으로(top-down), 문제를 나눌 수 없을 때까지 나누어서 각각을 풀면서 다시 합병하여 문제의 답을 얻는 알고리즘\n",
    "- 일반적으로 재귀함수로 구현\n",
    "- Memorization 기법 사용 안함\n",
    "- 문제를 쪼갤 때, 부분 문제는 서로 중복되지 않음(동적 게획법과의 차이)\n",
    "    - 예시: **병합정렬, 퀵정렬**"
   ]
  },
  {
   "cell_type": "code",
   "execution_count": 1,
   "metadata": {},
   "outputs": [],
   "source": [
    "# 피보나치 수열 (재귀)\n",
    "def fibo(num):\n",
    "    if num<=1:\n",
    "        return num\n",
    "    return fibo(num-1) + fibo(num-2)"
   ]
  },
  {
   "cell_type": "code",
   "execution_count": 2,
   "metadata": {
    "scrolled": true
   },
   "outputs": [
    {
     "data": {
      "text/plain": [
       "3"
      ]
     },
     "execution_count": 2,
     "metadata": {},
     "output_type": "execute_result"
    }
   ],
   "source": [
    "fibo(4)"
   ]
  },
  {
   "cell_type": "code",
   "execution_count": 3,
   "metadata": {},
   "outputs": [],
   "source": [
    "# 피보나치 수열 (동적계획법) - n이 클 때 재귀보다 더 빠름\n",
    "# 🔥num=0일때 에러 발생\n",
    "def fibo_dp(num):\n",
    "    cache = [0 for index in range(num+1)]\n",
    "    cache[0] = 0\n",
    "    cache[1] = 1\n",
    "    \n",
    "    for index in range(2, num+1):\n",
    "        cache[index] = cache[index - 1] + cache[index-2]\n",
    "    return cache[num]"
   ]
  },
  {
   "cell_type": "code",
   "execution_count": 4,
   "metadata": {
    "scrolled": true
   },
   "outputs": [
    {
     "data": {
      "text/plain": [
       "2"
      ]
     },
     "execution_count": 4,
     "metadata": {},
     "output_type": "execute_result"
    }
   ],
   "source": [
    "fibo_dp(3)"
   ]
  },
  {
   "cell_type": "markdown",
   "metadata": {},
   "source": [
    "## [문항1] 2*n 타일링(백준 11726)\n",
    "\n",
    "[백준 11726](https://www.acmicpc.net/problem/11726)"
   ]
  },
  {
   "cell_type": "code",
   "execution_count": 5,
   "metadata": {},
   "outputs": [],
   "source": [
    "'''\n",
    "[내 풀이]\n",
    "공략법:\n",
    "- 패턴이 있는 문제는 6~8개정도까지 나열해보며 점화식 찾아보기\n",
    "- a_1 = 1, a_2 = 2\n",
    "- a_n = a_(n-1) + a_(n-2) (단,  n>=3)\n",
    "'''\n",
    "def quiz1(n):\n",
    "    # 참고: n>=1에 대해서만 오류 없음\n",
    "    cache = [0 for _ in range(n+1)] # 🔥[주의] 배열 index 조심\n",
    "    cache[0] = 1\n",
    "    cache[1] = 2\n",
    "    \n",
    "    for i in range(2, n+1):\n",
    "        cache[i] = cache[i-1] + cache[i-2]\n",
    "\n",
    "    return cache[n-1]%10007"
   ]
  },
  {
   "cell_type": "code",
   "execution_count": 6,
   "metadata": {},
   "outputs": [
    {
     "data": {
      "text/plain": [
       "4955"
      ]
     },
     "execution_count": 6,
     "metadata": {},
     "output_type": "execute_result"
    }
   ],
   "source": [
    "quiz1(100)"
   ]
  },
  {
   "cell_type": "code",
   "execution_count": 7,
   "metadata": {
    "scrolled": true
   },
   "outputs": [
    {
     "name": "stdout",
     "output_type": "stream",
     "text": [
      "1\n",
      "2\n",
      "3\n",
      "13\n",
      "55\n"
     ]
    }
   ],
   "source": [
    "print(quiz1(1))\n",
    "print(quiz1(2))\n",
    "print(quiz1(3))\n",
    "print(quiz1(6))\n",
    "print(quiz1(9))"
   ]
  },
  {
   "cell_type": "markdown",
   "metadata": {},
   "source": [
    "## [문항2] 파도반 수열(백준 9461)\n",
    "\n",
    "[백준 9461](https://www.acmicpc.net/problem/9461)"
   ]
  },
  {
   "cell_type": "code",
   "execution_count": 8,
   "metadata": {},
   "outputs": [],
   "source": [
    "'''\n",
    "[내 풀이]\n",
    "공략법:\n",
    "- 파란색 삼각형은 흰색 삼각형 두개의 합, 흰색 삼각형은 파란색 삼각형 두개의 합\n",
    "- a_1 = 1, a_2 = 1, a_3 = 1, a_4 = 2, a_5 = 2\n",
    "- a_n = a_(n-1) + a_(n-5) (단,  n>=6)\n",
    "'''\n",
    "def quiz2(n):\n",
    "    # 참고: n>=1에 대해서만 오류 없음\n",
    "    cache = [0]*101 # 🔥[주의] 배열 index 조심\n",
    "    cache[0] = 1\n",
    "    cache[1] = 1\n",
    "    cache[2] = 1\n",
    "    cache[3] = 2\n",
    "    cache[4] = 2\n",
    "    \n",
    "    for i in range(5, n+1):\n",
    "        cache[i] = cache[i-1] + cache[i-5]\n",
    "\n",
    "    return cache[n-1]"
   ]
  },
  {
   "cell_type": "code",
   "execution_count": 9,
   "metadata": {},
   "outputs": [
    {
     "name": "stdout",
     "output_type": "stream",
     "text": [
      "16\n",
      "28\n"
     ]
    }
   ],
   "source": [
    "print(quiz2(12))\n",
    "print(quiz2(14))"
   ]
  },
  {
   "cell_type": "code",
   "execution_count": null,
   "metadata": {},
   "outputs": [],
   "source": []
  }
 ],
 "metadata": {
  "kernelspec": {
   "display_name": "Python 3",
   "language": "python",
   "name": "python3"
  },
  "language_info": {
   "codemirror_mode": {
    "name": "ipython",
    "version": 3
   },
   "file_extension": ".py",
   "mimetype": "text/x-python",
   "name": "python",
   "nbconvert_exporter": "python",
   "pygments_lexer": "ipython3",
   "version": "3.7.9"
  }
 },
 "nbformat": 4,
 "nbformat_minor": 4
}
